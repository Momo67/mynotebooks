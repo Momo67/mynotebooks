{
 "cells": [
  {
   "cell_type": "markdown",
   "metadata": {},
   "source": [
    "# What about writing SVG inside a cell in IPython or Jupyter"
   ]
  },
  {
   "cell_type": "code",
   "execution_count": 93,
   "metadata": {
    "collapsed": false
   },
   "outputs": [
    {
     "data": {
      "text/html": [
       "<img src=\"http://clipartist.net/social/clipartist.net/B/base_tux_g_v_linux.svg\" width=150 height=50/>"
      ],
      "text/plain": [
       "<IPython.core.display.HTML object>"
      ]
     },
     "metadata": {},
     "output_type": "display_data"
    }
   ],
   "source": [
    "%config InlineBackend.figure_format = 'svg'\n",
    "url_svg = 'http://clipartist.net/social/clipartist.net/B/base_tux_g_v_linux.svg'\n",
    "from IPython.display import SVG, display, HTML\n",
    "# testing svg inside jupyter next one does not support width parameter at the time of writing\n",
    "#display(SVG(url=url_svg))\n",
    "display(HTML('<img src=\"' + url_svg + '\" width=150 height=50/>'))"
   ]
  },
  {
   "cell_type": "markdown",
   "metadata": {},
   "source": [
    "## let's create a very simple SVG file"
   ]
  },
  {
   "cell_type": "code",
   "execution_count": 94,
   "metadata": {
    "collapsed": false
   },
   "outputs": [
    {
     "name": "stdout",
     "output_type": "stream",
     "text": [
      "Writing basic_circle.svg\n"
     ]
    }
   ],
   "source": [
    "%%writefile basic_circle.svg\n",
    "<svg xmlns=\"http://www.w3.org/2000/svg\">\n",
    "    <circle id=\"greencircle\" cx=\"30\" cy=\"30\" r=\"30\" fill=\"blue\" />\n",
    "</svg>"
   ]
  },
  {
   "cell_type": "code",
   "execution_count": 95,
   "metadata": {
    "collapsed": false
   },
   "outputs": [
    {
     "data": {
      "text/html": [
       "<img src=\"basic_circle.svg\" width=70 height=70/>"
      ],
      "text/plain": [
       "<IPython.core.display.HTML object>"
      ]
     },
     "execution_count": 95,
     "metadata": {},
     "output_type": "execute_result"
    }
   ],
   "source": [
    "url_svg = 'basic_circle.svg'\n",
    "HTML('<img src=\"' + url_svg + '\" width=70 height=70/>')"
   ]
  },
  {
   "cell_type": "markdown",
   "metadata": {},
   "source": [
    "## Now let's create a Svg Scene based\n",
    "inspired from  Isendrak Skatasmid code at :\n",
    "http://code.activestate.com/recipes/578123-draw-svg-images-in-python-python-recipe-enhanced-v/"
   ]
  },
  {
   "cell_type": "code",
   "execution_count": 96,
   "metadata": {
    "collapsed": false
   },
   "outputs": [],
   "source": [
    "class SvgScene:\n",
    "       \n",
    "    def __init__(self,name=\"svg\",height=500,width=500):\n",
    "        self.name = name\n",
    "        self.items = []\n",
    "        self.height = height\n",
    "        self.width = width\n",
    "        return\n",
    "\n",
    "    def add(self,item): self.items.append(item)\n",
    "\n",
    "    def strarray(self):\n",
    "        var = [\"<?xml version=\\\"1.0\\\"?>\\n\",\n",
    "               \"<svg height=\\\"%d\\\" width=\\\"%d\\\" xmlns=\\\"http://www.w3.org/2000/svg\\\" >\\n\" % (self.height,self.width),\n",
    "               \" <g style=\\\"fill-opacity:1.0; stroke:black;\\n\",\n",
    "               \"  stroke-width:1;\\\">\\n\"]\n",
    "        for item in self.items: var += item.strarray()            \n",
    "        var += [\" </g>\\n</svg>\\n\"]\n",
    "        return var\n",
    "\n",
    "    def write_svg(self,filename=None):\n",
    "        if filename:\n",
    "            self.svgname = filename\n",
    "        else:\n",
    "            self.svgname = self.name + \".svg\"\n",
    "        file = open(self.svgname,'w')\n",
    "        file.writelines(self.strarray())\n",
    "        file.close()\n",
    "        return\n",
    "\n",
    "    def display(self):\n",
    "        url_svg = self.svgname         \n",
    "        display(HTML('<img src=\"' + url_svg + '\" width=' + str(self.width) + ' height=' + str(self.height) + '/>'))\n",
    "        return\n",
    "\n",
    "class Line:\n",
    "    def __init__(self,start,end,color,width):\n",
    "        self.start = start\n",
    "        self.end = end\n",
    "        self.color = color\n",
    "        self.width = width\n",
    "        return\n",
    "\n",
    "    def strarray(self):\n",
    "        return [\"  <line x1=\\\"%d\\\" y1=\\\"%d\\\" x2=\\\"%d\\\" y2=\\\"%d\\\" style=\\\"stroke:%s;stroke-width:%d\\\"/>\\n\" %\\\n",
    "                (self.start[0],self.start[1],self.end[0],self.end[1],colorstr(self.color),self.width)]\n",
    "\n",
    "class Circle:\n",
    "    def __init__(self,center,radius,fill_color,line_color,line_width):\n",
    "        self.center = center\n",
    "        self.radius = radius\n",
    "        self.fill_color = fill_color\n",
    "        self.line_color = line_color\n",
    "        self.line_width = line_width\n",
    "        return\n",
    "\n",
    "    def strarray(self):\n",
    "        return [\"  <circle cx=\\\"%d\\\" cy=\\\"%d\\\" r=\\\"%d\\\"\\n\" %\\\n",
    "                (self.center[0],self.center[1],self.radius),\n",
    "                \"    style=\\\"fill:%s;stroke:%s;stroke-width:%d\\\"  />\\n\" % (colorstr(self.fill_color),colorstr(self.line_color),self.line_width)]\n",
    "\n",
    "class Ellipse:\n",
    "    def __init__(self,center,radius_x,radius_y,fill_color,line_color,line_width):\n",
    "        self.center = center\n",
    "        self.radiusx = radius_x\n",
    "        self.radiusy = radius_y\n",
    "        self.fill_color = fill_color\n",
    "        self.line_color = line_color\n",
    "        self.line_width = line_width\n",
    "    def strarray(self):\n",
    "        return [\"  <ellipse cx=\\\"%d\\\" cy=\\\"%d\\\" rx=\\\"%d\\\" ry=\\\"%d\\\"\\n\" %\\\n",
    "                (self.center[0],self.center[1],self.radius_x,self.radius_y),\n",
    "                \"    style=\\\"fill:%s;stroke:%s;stroke-width:%d\\\"/>\\n\" % (colorstr(self.fill_color),colorstr(self.line_color),self.line_width)]\n",
    "\n",
    "class Polygon:\n",
    "    def __init__(self,points,fill_color,line_color,line_width):\n",
    "        self.points = points\n",
    "        self.fill_color = fill_color\n",
    "        self.line_color = line_color\n",
    "        self.line_width = line_width\n",
    "    def strarray(self):\n",
    "        polygon=\"<polygon points=\\\"\"\n",
    "        for point in self.points:\n",
    "            polygon+=\" %d,%d\" % (point[0],point[1])\n",
    "        return [polygon,\\\n",
    "               \"\\\" \\nstyle=\\\"fill:%s;stroke:%s;stroke-width:%d\\\"/>\\n\" %\\\n",
    "               (colorstr(self.fill_color),colorstr(self.line_color),self.line_width)]\n",
    "\n",
    "class Rectangle:\n",
    "    def __init__(self,origin,height,width,fill_color,line_color,line_width):\n",
    "        self.origin = origin\n",
    "        self.height = height\n",
    "        self.width = width\n",
    "        self.fill_color = fill_color\n",
    "        self.line_color = line_color\n",
    "        self.line_width = line_width\n",
    "        return\n",
    "\n",
    "    def strarray(self):\n",
    "        return [\"  <rect x=\\\"%d\\\" y=\\\"%d\\\" height=\\\"%d\\\"\\n\" %\\\n",
    "                (self.origin[0],self.origin[1],self.height),\n",
    "                \"    width=\\\"%d\\\" style=\\\"fill:%s;stroke:%s;stroke-width:%d\\\" />\\n\" %\\\n",
    "                (self.width,colorstr(self.fill_color),colorstr(self.line_color),self.line_width)]\n",
    "\n",
    "class Text:\n",
    "    def __init__(self,origin,text,size,color):\n",
    "        self.origin = origin\n",
    "        self.text = text\n",
    "        self.size = size\n",
    "        self.color = color\n",
    "        return\n",
    "\n",
    "    def strarray(self):\n",
    "        return [\"  <text x=\\\"%d\\\" y=\\\"%d\\\" font-size=\\\"%d\\\" fill=\\\"%s\\\">\\n\" %\\\n",
    "                (self.origin[0],self.origin[1],self.size,colorstr(self.color)),\n",
    "                \"   %s\\n\" % self.text,\n",
    "                \"  </text>\\n\"]\n",
    "\n",
    "def colorstr(rgb): return \"#%x%x%x\" % (rgb[0]/16,rgb[1]/16,rgb[2]/16)\n"
   ]
  },
  {
   "cell_type": "code",
   "execution_count": 97,
   "metadata": {
    "collapsed": false
   },
   "outputs": [
    {
     "data": {
      "text/html": [
       "<img src=\"test.svg\" width=300 height=300/>"
      ],
      "text/plain": [
       "<IPython.core.display.HTML object>"
      ]
     },
     "metadata": {},
     "output_type": "display_data"
    }
   ],
   "source": [
    "scene = SvgScene(\"test\",300,300)\n",
    "scene.add(Rectangle((100,100),200,200,(0,255,255),(0,0,0),1))\n",
    "scene.add(Line((200,200),(200,300),(0,0,0),1))\n",
    "scene.add(Line((200,200),(300,200),(0,0,0),1))\n",
    "scene.add(Line((200,200),(100,200),(0,0,0),1))\n",
    "scene.add(Line((200,200),(200,100),(0,0,0),1))\n",
    "scene.add(Circle((200,200),30,(0,0,255),(0,0,0),1))\n",
    "scene.add(Circle((200,300),30,(0,255,0),(0,0,0),1))\n",
    "scene.add(Circle((300,200),30,(255,0,0),(0,0,0),1))\n",
    "scene.add(Circle((100,200),30,(255,255,0),(0,0,0),1))\n",
    "scene.add(Circle((200,100),30,(255,0,255),(0,0,0),1))\n",
    "scene.add(Text((50,50),\"Testing SVG 1\",24,(0,0,0)))\n",
    "scene.write_svg()\n",
    "scene.display()"
   ]
  },
  {
   "cell_type": "code",
   "execution_count": null,
   "metadata": {
    "collapsed": true
   },
   "outputs": [],
   "source": []
  }
 ],
 "metadata": {
  "kernelspec": {
   "display_name": "Python 2",
   "language": "python",
   "name": "python2"
  },
  "language_info": {
   "codemirror_mode": {
    "name": "ipython",
    "version": 2
   },
   "file_extension": ".py",
   "mimetype": "text/x-python",
   "name": "python",
   "nbconvert_exporter": "python",
   "pygments_lexer": "ipython2",
   "version": "2.7.11"
  }
 },
 "nbformat": 4,
 "nbformat_minor": 0
}
