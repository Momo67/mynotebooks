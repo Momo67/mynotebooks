{
 "cells": [
  {
   "cell_type": "code",
   "execution_count": 15,
   "metadata": {
    "collapsed": false
   },
   "outputs": [],
   "source": [
    "%matplotlib inline\n",
    "\n",
    "from pandas import Series, DataFrame\n",
    "import pandas as pd\n",
    "import numpy as np\n",
    "import matplotlib\n",
    "from matplotlib import pyplot as plt\n",
    "import seaborn as sns"
   ]
  },
  {
   "cell_type": "code",
   "execution_count": 44,
   "metadata": {
    "collapsed": false
   },
   "outputs": [
    {
     "name": "stdout",
     "output_type": "stream",
     "text": [
      "1\n"
     ]
    },
    {
     "data": {
      "text/html": [
       "<div>\n",
       "<table border=\"1\" class=\"dataframe\">\n",
       "  <thead>\n",
       "    <tr style=\"text-align: right;\">\n",
       "      <th></th>\n",
       "      <th>Rank</th>\n",
       "      <th>Population</th>\n",
       "      <th>Date</th>\n",
       "      <th>% of world population</th>\n",
       "      <th>Source</th>\n",
       "    </tr>\n",
       "    <tr>\n",
       "      <th>Country (or dependent territory)</th>\n",
       "      <th></th>\n",
       "      <th></th>\n",
       "      <th></th>\n",
       "      <th></th>\n",
       "      <th></th>\n",
       "    </tr>\n",
       "  </thead>\n",
       "  <tbody>\n",
       "    <tr>\n",
       "      <th>China[Note 2]</th>\n",
       "      <td>1</td>\n",
       "      <td>1372780000</td>\n",
       "      <td>October 23, 2015</td>\n",
       "      <td>18.9%</td>\n",
       "      <td>Official population clock</td>\n",
       "    </tr>\n",
       "    <tr>\n",
       "      <th>India</th>\n",
       "      <td>2</td>\n",
       "      <td>1278980000</td>\n",
       "      <td>October 23, 2015</td>\n",
       "      <td>17.6%</td>\n",
       "      <td>Official population clock</td>\n",
       "    </tr>\n",
       "    <tr>\n",
       "      <th>United States[Note 3]</th>\n",
       "      <td>3</td>\n",
       "      <td>322082000</td>\n",
       "      <td>October 23, 2015</td>\n",
       "      <td>4.43%</td>\n",
       "      <td>Official population clock</td>\n",
       "    </tr>\n",
       "    <tr>\n",
       "      <th>Indonesia</th>\n",
       "      <td>4</td>\n",
       "      <td>257080000</td>\n",
       "      <td>October 11, 2015</td>\n",
       "      <td>3.53%</td>\n",
       "      <td>Official projection</td>\n",
       "    </tr>\n",
       "    <tr>\n",
       "      <th>Brazil</th>\n",
       "      <td>5</td>\n",
       "      <td>205084000</td>\n",
       "      <td>October 23, 2015</td>\n",
       "      <td>2.82%</td>\n",
       "      <td>Official population clock</td>\n",
       "    </tr>\n",
       "  </tbody>\n",
       "</table>\n",
       "</div>"
      ],
      "text/plain": [
       "                                  Rank  Population              Date  \\\n",
       "Country (or dependent territory)                                       \n",
       "China[Note 2]                        1  1372780000  October 23, 2015   \n",
       "India                                2  1278980000  October 23, 2015   \n",
       "United States[Note 3]                3   322082000  October 23, 2015   \n",
       "Indonesia                            4   257080000  October 11, 2015   \n",
       "Brazil                               5   205084000  October 23, 2015   \n",
       "\n",
       "                                 % of world population  \\\n",
       "Country (or dependent territory)                         \n",
       "China[Note 2]                                    18.9%   \n",
       "India                                            17.6%   \n",
       "United States[Note 3]                            4.43%   \n",
       "Indonesia                                        3.53%   \n",
       "Brazil                                           2.82%   \n",
       "\n",
       "                                                     Source  \n",
       "Country (or dependent territory)                             \n",
       "China[Note 2]                     Official population clock  \n",
       "India                             Official population clock  \n",
       "United States[Note 3]             Official population clock  \n",
       "Indonesia                               Official projection  \n",
       "Brazil                            Official population clock  "
      ]
     },
     "execution_count": 44,
     "metadata": {},
     "output_type": "execute_result"
    }
   ],
   "source": [
    "url = 'https://en.wikipedia.org/wiki/List_of_countries_and_dependencies_by_population'\n",
    "#countries = pd.read_html(url,skiprows=0,index_col=0,header=0,match='China')\n",
    "countries = pd.read_html(url,header=0,index_col=1,match='China')\n",
    "print len(countries)  \n",
    "countries=countries[0]\n",
    "countries[0:5]"
   ]
  },
  {
   "cell_type": "code",
   "execution_count": 45,
   "metadata": {
    "collapsed": false
   },
   "outputs": [
    {
     "data": {
      "text/plain": [
       "Index([u'Rank', u'Population', u'Date', u'% of world population', u'Source'], dtype='object')"
      ]
     },
     "execution_count": 45,
     "metadata": {},
     "output_type": "execute_result"
    }
   ],
   "source": [
    "countries.columns"
   ]
  },
  {
   "cell_type": "code",
   "execution_count": 46,
   "metadata": {
    "collapsed": false
   },
   "outputs": [
    {
     "data": {
      "text/plain": [
       "pandas.core.frame.DataFrame"
      ]
     },
     "execution_count": 46,
     "metadata": {},
     "output_type": "execute_result"
    }
   ],
   "source": [
    "type(countries)\n"
   ]
  },
  {
   "cell_type": "code",
   "execution_count": 54,
   "metadata": {
    "collapsed": false
   },
   "outputs": [
    {
     "data": {
      "text/html": [
       "<div>\n",
       "<table border=\"1\" class=\"dataframe\">\n",
       "  <thead>\n",
       "    <tr style=\"text-align: right;\">\n",
       "      <th></th>\n",
       "      <th>Population</th>\n",
       "    </tr>\n",
       "    <tr>\n",
       "      <th>Country (or dependent territory)</th>\n",
       "      <th></th>\n",
       "    </tr>\n",
       "  </thead>\n",
       "  <tbody>\n",
       "    <tr>\n",
       "      <th>China[Note 2]</th>\n",
       "      <td>1372780000</td>\n",
       "    </tr>\n",
       "    <tr>\n",
       "      <th>India</th>\n",
       "      <td>1278980000</td>\n",
       "    </tr>\n",
       "    <tr>\n",
       "      <th>United States[Note 3]</th>\n",
       "      <td>322082000</td>\n",
       "    </tr>\n",
       "    <tr>\n",
       "      <th>Indonesia</th>\n",
       "      <td>257080000</td>\n",
       "    </tr>\n",
       "    <tr>\n",
       "      <th>Brazil</th>\n",
       "      <td>205084000</td>\n",
       "    </tr>\n",
       "    <tr>\n",
       "      <th>Pakistan</th>\n",
       "      <td>191165000</td>\n",
       "    </tr>\n",
       "    <tr>\n",
       "      <th>Nigeria</th>\n",
       "      <td>183541000</td>\n",
       "    </tr>\n",
       "    <tr>\n",
       "      <th>Bangladesh</th>\n",
       "      <td>159241000</td>\n",
       "    </tr>\n",
       "    <tr>\n",
       "      <th>Russia[Note 4]</th>\n",
       "      <td>146412580</td>\n",
       "    </tr>\n",
       "    <tr>\n",
       "      <th>Japan</th>\n",
       "      <td>126832000</td>\n",
       "    </tr>\n",
       "  </tbody>\n",
       "</table>\n",
       "</div>"
      ],
      "text/plain": [
       "                                  Population\n",
       "Country (or dependent territory)            \n",
       "China[Note 2]                     1372780000\n",
       "India                             1278980000\n",
       "United States[Note 3]              322082000\n",
       "Indonesia                          257080000\n",
       "Brazil                             205084000\n",
       "Pakistan                           191165000\n",
       "Nigeria                            183541000\n",
       "Bangladesh                         159241000\n",
       "Russia[Note 4]                     146412580\n",
       "Japan                              126832000"
      ]
     },
     "execution_count": 54,
     "metadata": {},
     "output_type": "execute_result"
    }
   ],
   "source": [
    "df_toptten = DataFrame(countries[0:10],columns=['Population'])\n",
    "df_toptten "
   ]
  },
  {
   "cell_type": "code",
   "execution_count": 55,
   "metadata": {
    "collapsed": false
   },
   "outputs": [
    {
     "data": {
      "text/plain": [
       "<matplotlib.axes._subplots.AxesSubplot at 0xda31198>"
      ]
     },
     "execution_count": 55,
     "metadata": {},
     "output_type": "execute_result"
    },
    {
     "data": {
      "image/png": "[encoded data removed]",
      "text/plain": [
       "<matplotlib.figure.Figure at 0xf2908d0>"
      ]
     },
     "metadata": {},
     "output_type": "display_data"
    }
   ],
   "source": [
    "df_toptten[0:10].plot(kind='bar')"
   ]
  },
  {
   "cell_type": "code",
   "execution_count": 86,
   "metadata": {
    "collapsed": false
   },
   "outputs": [
    {
     "data": {
      "text/plain": [
       "Country (or dependent territory)\n",
       "China[Note 2]            18.90\n",
       "India                    17.60\n",
       "United States[Note 3]     4.43\n",
       "Indonesia                 3.53\n",
       "Brazil                    2.82\n",
       "Pakistan                  2.63\n",
       "Nigeria                   2.50\n",
       "Bangladesh                2.19\n",
       "Russia[Note 4]            2.01\n",
       "Japan                     1.74\n",
       "Name: PercentNum, dtype: float64"
      ]
     },
     "execution_count": 86,
     "metadata": {},
     "output_type": "execute_result"
    }
   ],
   "source": [
    "df = pd.DataFrame(countries[0:20],columns=[ '% of world population'],)\n",
    "df['% of world population']=df['% of world population'].str.replace('%', '')\n",
    "df['PercentNum'] = df['% of world population'].astype(float)\n",
    "df['PercentNum'][0:10]"
   ]
  },
  {
   "cell_type": "code",
   "execution_count": 85,
   "metadata": {
    "collapsed": false
   },
   "outputs": [
    {
     "data": {
      "text/plain": [
       "([<matplotlib.patches.Wedge at 0x22abf1d0>,\n",
       "  <matplotlib.patches.Wedge at 0x22abfa90>,\n",
       "  <matplotlib.patches.Wedge at 0x22b11320>,\n",
       "  <matplotlib.patches.Wedge at 0x22b11b70>,\n",
       "  <matplotlib.patches.Wedge at 0x22b1f400>,\n",
       "  <matplotlib.patches.Wedge at 0x22b1fc50>,\n",
       "  <matplotlib.patches.Wedge at 0x22b2c4e0>,\n",
       "  <matplotlib.patches.Wedge at 0x22b2cd30>,\n",
       "  <matplotlib.patches.Wedge at 0x22b3b5c0>,\n",
       "  <matplotlib.patches.Wedge at 0x22b3be10>],\n",
       " [<matplotlib.text.Text at 0x22abf6d8>,\n",
       "  <matplotlib.text.Text at 0x22abff60>,\n",
       "  <matplotlib.text.Text at 0x22b117f0>,\n",
       "  <matplotlib.text.Text at 0x22b11f98>,\n",
       "  <matplotlib.text.Text at 0x22b1f8d0>,\n",
       "  <matplotlib.text.Text at 0x22b2c160>,\n",
       "  <matplotlib.text.Text at 0x22b2c9b0>,\n",
       "  <matplotlib.text.Text at 0x22b3b240>,\n",
       "  <matplotlib.text.Text at 0x22b3ba90>,\n",
       "  <matplotlib.text.Text at 0x22c3f320>])"
      ]
     },
     "execution_count": 85,
     "metadata": {},
     "output_type": "execute_result"
    },
    {
     "data": {
      "image/png": "[encoded data removed]",
      "text/plain": [
       "<matplotlib.figure.Figure at 0x22727a90>"
      ]
     },
     "metadata": {},
     "output_type": "display_data"
    }
   ],
   "source": [
    "plt.pie(df['PercentNum'][0:10])"
   ]
  },
  {
   "cell_type": "code",
   "execution_count": null,
   "metadata": {
    "collapsed": true
   },
   "outputs": [],
   "source": []
  }
 ],
 "metadata": {
  "kernelspec": {
   "display_name": "Python 2",
   "language": "python",
   "name": "python2"
  },
  "language_info": {
   "codemirror_mode": {
    "name": "ipython",
    "version": 2
   },
   "file_extension": ".py",
   "mimetype": "text/x-python",
   "name": "python",
   "nbconvert_exporter": "python",
   "pygments_lexer": "ipython2",
   "version": "2.7.10"
  }
 },
 "nbformat": 4,
 "nbformat_minor": 0
}
