{
 "cells": [
  {
   "cell_type": "markdown",
   "metadata": {},
   "source": [
    "# 1.  first let's check SVG output in jupyter"
   ]
  },
  {
   "cell_type": "code",
   "execution_count": 34,
   "metadata": {
    "collapsed": false
   },
   "outputs": [
    {
     "data": {
      "text/html": [
       "<img src=\"http://clipartist.net/social/clipartist.net/B/base_tux_g_v_linux.svg\" width=100 height=20/>"
      ],
      "text/plain": [
       "<IPython.core.display.HTML object>"
      ]
     },
     "execution_count": 34,
     "metadata": {},
     "output_type": "execute_result"
    }
   ],
   "source": [
    "%matplotlib inline\n",
    "%config InlineBackend.figure_format = 'svg'\n",
    "url_svg = 'http://clipartist.net/social/clipartist.net/B/base_tux_g_v_linux.svg'\n",
    "import matplotlib.pyplot as plt\n",
    "from IPython.display import SVG, display\n",
    "# testing svg inside jupyter next one does not support \n",
    "#display(SVG(url=url_svg))\n",
    "from IPython.core.display import HTML\n",
    "HTML('<img src=\"' + url_svg + '\" width=100 height=20/>')"
   ]
  },
  {
   "cell_type": "code",
   "execution_count": 5,
   "metadata": {
    "collapsed": false
   },
   "outputs": [
    {
     "data": {
      "text/plain": [
       "5.0"
      ]
     },
     "execution_count": 5,
     "metadata": {},
     "output_type": "execute_result"
    }
   ],
   "source": [
    "float(i)"
   ]
  },
  {
   "cell_type": "code",
   "execution_count": 4,
   "metadata": {
    "collapsed": false
   },
   "outputs": [
    {
     "data": {
      "text/plain": [
       "__main__.Sample"
      ]
     },
     "execution_count": 4,
     "metadata": {},
     "output_type": "execute_result"
    }
   ],
   "source": [
    "type(x)\n"
   ]
  },
  {
   "cell_type": "code",
   "execution_count": 6,
   "metadata": {
    "collapsed": false
   },
   "outputs": [],
   "source": [
    "class Point(object):\n",
    "    \"\"\"\n",
    "    A simple 2D cartesian Point with x and y coordinates\n",
    "    \"\"\"\n",
    "    \n",
    "    def __init__(self,x=0.0,y=0.0):\n",
    "        self.x = float(x)\n",
    "        self.y = float(y)\n",
    "        \n",
    "    def __repr__(self):\n",
    "        return (\"x,y = {x},{y}\".format(x=self.x,y=self.y))\n",
    "    \n",
    "    def move(self,newx,newy):\n",
    "        \"\"\"\n",
    "        This method moves the point to newx,newy position\n",
    "        \"\"\"\n",
    "        self.x = float(newx)\n",
    "        self.y = float(newy)\n",
    "        \n",
    "    def moverel(self,dx,dy):\n",
    "        \"\"\"\n",
    "        This method moves the point ny dx,dy relative to its current position\n",
    "        \"\"\"\n",
    "        self.x += float(dx)\n",
    "        self.y += float(dy)\n",
    "        \n",
    "        "
   ]
  },
  {
   "cell_type": "code",
   "execution_count": 21,
   "metadata": {
    "collapsed": false
   },
   "outputs": [
    {
     "name": "stdout",
     "output_type": "stream",
     "text": [
      "P0 x,y = 0.0,0.0, P1 x,y = 1.0,2.0 and P2 x,y = 3.0,5.0\n"
     ]
    }
   ],
   "source": [
    "P0 = Point()\n",
    "P1 = Point(1,2)\n",
    "P2 = Point(3,5)\n",
    "print(\"P0 {p0}, P1 {p1} and P2 {p2}\".format(p0=P0,p1=P1,p2=P2))"
   ]
  },
  {
   "cell_type": "code",
   "execution_count": 22,
   "metadata": {
    "collapsed": false
   },
   "outputs": [
    {
     "name": "stdout",
     "output_type": "stream",
     "text": [
      "P1 x,y = 4.0,4.0 and P2 x,y = 4.0,4.0\n"
     ]
    },
    {
     "data": {
      "text/plain": [
       "False"
      ]
     },
     "execution_count": 22,
     "metadata": {},
     "output_type": "execute_result"
    }
   ],
   "source": [
    "P1.move(4,4)\n",
    "P2.moverel(1,-1)\n",
    "print(\"P1 {p1} and P2 {p2}\".format(p1=P1,p2=P2))\n",
    "P1==P2"
   ]
  },
  {
   "cell_type": "markdown",
   "metadata": {},
   "source": [
    "# Point inheritance\n",
    "    let's add a name attribute to our Point class"
   ]
  },
  {
   "cell_type": "code",
   "execution_count": 9,
   "metadata": {
    "collapsed": true
   },
   "outputs": [],
   "source": [
    "class NamedPoint(Point):\n",
    "    \n",
    "    def __init__(self,name,x,y):\n",
    "        Point.__init__(self,x,y)\n",
    "        self.name = name\n",
    "        \n",
    "    def __repr__(self):\n",
    "        return (\"{name} : \".format(name=self.name) + Point.__repr__(self))\n",
    "    \n",
    "        \n",
    "        "
   ]
  },
  {
   "cell_type": "code",
   "execution_count": 10,
   "metadata": {
    "collapsed": false
   },
   "outputs": [
    {
     "name": "stdout",
     "output_type": "stream",
     "text": [
      "P3 : x,y = 3.0,3.0\n"
     ]
    }
   ],
   "source": [
    "P3 = NamedPoint('P3',3,3)\n",
    "print P3"
   ]
  },
  {
   "cell_type": "code",
   "execution_count": 55,
   "metadata": {
    "collapsed": false
   },
   "outputs": [
    {
     "name": "stdout",
     "output_type": "stream",
     "text": [
      "P3 : x,y = 1,1\n"
     ]
    }
   ],
   "source": [
    "P3.move(1,1)\n",
    "print P3"
   ]
  },
  {
   "cell_type": "code",
   "execution_count": 56,
   "metadata": {
    "collapsed": false
   },
   "outputs": [
    {
     "data": {
      "text/plain": [
       "__main__.NamedPoint"
      ]
     },
     "execution_count": 56,
     "metadata": {},
     "output_type": "execute_result"
    }
   ],
   "source": [
    "type(P3)"
   ]
  },
  {
   "cell_type": "code",
   "execution_count": 16,
   "metadata": {
    "collapsed": false
   },
   "outputs": [
    {
     "data": {
      "text/plain": [
       "False"
      ]
     },
     "execution_count": 16,
     "metadata": {},
     "output_type": "execute_result"
    }
   ],
   "source": [
    "P2==P1\n"
   ]
  },
  {
   "cell_type": "code",
   "execution_count": 12,
   "metadata": {
    "collapsed": false
   },
   "outputs": [
    {
     "data": {
      "text/plain": [
       "P3 : x,y = 3.0,3.0"
      ]
     },
     "execution_count": 12,
     "metadata": {},
     "output_type": "execute_result"
    }
   ],
   "source": [
    "P4"
   ]
  },
  {
   "cell_type": "code",
   "execution_count": 13,
   "metadata": {
    "collapsed": false
   },
   "outputs": [
    {
     "data": {
      "text/plain": [
       "__main__.NamedPoint"
      ]
     },
     "execution_count": 13,
     "metadata": {},
     "output_type": "execute_result"
    }
   ],
   "source": [
    "type(P4)\n"
   ]
  },
  {
   "cell_type": "code",
   "execution_count": null,
   "metadata": {
    "collapsed": true
   },
   "outputs": [],
   "source": []
  }
 ],
 "metadata": {
  "kernelspec": {
   "display_name": "Python 2",
   "language": "python",
   "name": "python2"
  },
  "language_info": {
   "codemirror_mode": {
    "name": "ipython",
    "version": 2
   },
   "file_extension": ".py",
   "mimetype": "text/x-python",
   "name": "python",
   "nbconvert_exporter": "python",
   "pygments_lexer": "ipython2",
   "version": "2.7.11"
  }
 },
 "nbformat": 4,
 "nbformat_minor": 0
}
