{
 "cells": [
  {
   "cell_type": "markdown",
   "metadata": {},
   "source": [
    "<div class=\"clearfix\" style=\"padding: 10px; padding-left: 0px\">\n",
    "<img src=\"https://raw.githubusercontent.com/jupyter/nature-demo/master/images/jupyter-logo.png\" width=\"150px\" style=\"display: inline-block; margin-top: 5px;\">\n",
    "<a href=\"http://bit.ly/tmpnbdevrax\"><img src=\"https://cloud.githubusercontent.com/assets/836375/4916141/2732892e-64d6-11e4-980f-11afcf03ca31.png\" width=\"150px\" class=\"pull-right\" style=\"display: inline-block; margin: 0px;\"></a>\n",
    "</div>\n",
    "\n",
    "## Welcome to the Temporary Notebook (tmpnb) service!\n",
    "\n",
    "This Notebook Server was **launched just for you**. It's a temporary way for you to try out a recent development version of the IPython/Jupyter notebook.\n",
    "\n",
    "<div class=\"alert alert-warning\" role=\"alert\" style=\"margin: 10px\">\n",
    "<p>**WARNING**</p>\n",
    "\n",
    "<p>Don't rely on this server for anything you want to last - your server will be *deleted after 10 minutes of inactivity*.</p>\n",
    "</div>\n",
    "\n",
    "Your server is hosted thanks to [Rackspace](http://bit.ly/tmpnbdevrax), on their on-demand bare metal servers, [OnMetal](http://bit.ly/onmetal).\n"
   ]
  },
  {
   "cell_type": "markdown",
   "metadata": {},
   "source": [
    "### Run some Python code!\n",
    "\n",
    "To run the code below:\n",
    "\n",
    "1. Click on the cell to select it.\n",
    "2. Press `SHIFT+ENTER` on your keyboard or press the play button (<button class='fa fa-play icon-play btn btn-xs btn-default'></button>) in the toolbar above.\n",
    "\n",
    "A full tutorial for using the notebook interface is available [here](ipython_examples/Notebook/Index.ipynb)."
   ]
  },
  {
   "cell_type": "code",
   "execution_count": 1,
   "metadata": {
    "collapsed": false
   },
   "outputs": [
    {
     "name": "stdout",
     "output_type": "stream",
     "text": [
      "123\n"
     ]
    }
   ],
   "source": [
    "class Account:\n",
    "    def __init__(self, id):\n",
    "        self.id = id\n",
    "        id = 666 \n",
    " \n",
    "acc = Account(123)\n",
    "print(acc.id)"
   ]
  },
  {
   "cell_type": "code",
   "execution_count": 2,
   "metadata": {
    "collapsed": false
   },
   "outputs": [
    {
     "name": "stdout",
     "output_type": "stream",
     "text": [
      "6\n"
     ]
    }
   ],
   "source": [
    "confusion = {}\n",
    "confusion[1] = 1\n",
    "confusion['1'] = 2\n",
    "confusion[1.0] = 4\n",
    " \n",
    "sum = 0\n",
    "for k in confusion:\n",
    "    sum += confusion[k]\n",
    " \n",
    "print(sum)"
   ]
  },
  {
   "cell_type": "code",
   "execution_count": 3,
   "metadata": {
    "collapsed": false
   },
   "outputs": [
    {
     "name": "stdout",
     "output_type": "stream",
     "text": [
      "yes\n"
     ]
    }
   ],
   "source": [
    "x = True\n",
    "y = False\n",
    "z = False\n",
    " \n",
    "if x or y and z:\n",
    "    print \"yes\"\n",
    "else:\n",
    "    print \"no\""
   ]
  },
  {
   "cell_type": "code",
   "execution_count": 9,
   "metadata": {
    "collapsed": true
   },
   "outputs": [],
   "source": [
    "inventaire = [(\"pommes\", 22),(\"melons\", 4),(\"poires\", 18),(\"fraises\", 76),(\"prunes\", 51)]\n",
    "#Classer cette liste selon la quantité de chaque fruit par ordre décroissant"
   ]
  },
  {
   "cell_type": "code",
   "execution_count": 10,
   "metadata": {
    "collapsed": false
   },
   "outputs": [
    {
     "name": "stdout",
     "output_type": "stream",
     "text": [
      "[('fraises', 76), ('prunes', 51), ('pommes', 22), ('poires', 18), ('melons', 4)]\n"
     ]
    }
   ],
   "source": [
    "inventaire_inverse = [(qtt, nom_fruit) for nom_fruit, qtt in inventaire]\n",
    "inventaire_inverse.sort(reverse=True)\n",
    "inventaire = [(nom_fruit, qtt) for qtt , nom_fruit in inventaire_inverse]\n",
    "print(inventaire)"
   ]
  },
  {
   "cell_type": "code",
   "execution_count": 31,
   "metadata": {
    "collapsed": false
   },
   "outputs": [
    {
     "name": "stdout",
     "output_type": "stream",
     "text": [
      "[45  4 28 14 60 11 44 58  1  9 89  6 81 11 54 75 26 71 90 38  0 89 94 98  4\n",
      "  6 46 76 71 26 57 85 17 36 78 70 16 18 74 75 30 20 60  7  6 32 47 96 30 81\n",
      " 39 45 35 60 16 11 60 94 12 54 68 39 83 87 36 87 36 41 20 33 31 76 96 75 92\n",
      " 74 40 26 55 37 28  1 14 89 69 20 80 33 49 13 16 74 78  8  5 44 26  2  7  2]\n"
     ]
    },
    {
     "data": {
      "text/plain": [
       "list"
      ]
     },
     "execution_count": 31,
     "metadata": {},
     "output_type": "execute_result"
    }
   ],
   "source": [
    "import numpy.random as nprnd\n",
    "liste = nprnd.randint(100, size=100)\n",
    "print(liste)\n",
    "type(list(liste))"
   ]
  },
  {
   "cell_type": "code",
   "execution_count": 27,
   "metadata": {
    "collapsed": false
   },
   "outputs": [
    {
     "name": "stdout",
     "output_type": "stream",
     "text": [
      "5063\n",
      "10000 loops, best of 3: 26.7 µs per loop\n"
     ]
    }
   ],
   "source": [
    "print(reduce(lambda x,y: x+y, liste))\n",
    "%timeit reduce(lambda x,y: x+y, liste)"
   ]
  },
  {
   "cell_type": "code",
   "execution_count": 34,
   "metadata": {
    "collapsed": false
   },
   "outputs": [
    {
     "ename": "TypeError",
     "evalue": "'int' object is not callable",
     "output_type": "error",
     "traceback": [
      "\u001b[1;31m---------------------------------------------------------------------------\u001b[0m",
      "\u001b[1;31mTypeError\u001b[0m                                 Traceback (most recent call last)",
      "\u001b[1;32m<ipython-input-34-7e2d7cfa76e2>\u001b[0m in \u001b[0;36m<module>\u001b[1;34m()\u001b[0m\n\u001b[1;32m----> 1\u001b[1;33m \u001b[0mresult\u001b[0m \u001b[1;33m=\u001b[0m \u001b[0msum\u001b[0m\u001b[1;33m(\u001b[0m\u001b[0mlist\u001b[0m\u001b[1;33m(\u001b[0m\u001b[0mliste\u001b[0m\u001b[1;33m)\u001b[0m\u001b[1;33m)\u001b[0m\u001b[1;33m\u001b[0m\u001b[0m\n\u001b[0m\u001b[0;32m      2\u001b[0m \u001b[1;32mprint\u001b[0m \u001b[0mresult\u001b[0m\u001b[1;33m\u001b[0m\u001b[0m\n",
      "\u001b[1;31mTypeError\u001b[0m: 'int' object is not callable"
     ]
    }
   ],
   "source": [
    "result = sum(list(liste))\n",
    "print result"
   ]
  },
  {
   "cell_type": "code",
   "execution_count": null,
   "metadata": {
    "collapsed": true
   },
   "outputs": [],
   "source": []
  }
 ],
 "metadata": {
  "kernelspec": {
   "display_name": "Python 2",
   "language": "python",
   "name": "python2"
  },
  "language_info": {
   "codemirror_mode": {
    "name": "ipython",
    "version": 2
   },
   "file_extension": ".py",
   "mimetype": "text/x-python",
   "name": "python",
   "nbconvert_exporter": "python",
   "pygments_lexer": "ipython2",
   "version": "2.7.10"
  }
 },
 "nbformat": 4,
 "nbformat_minor": 0
}
