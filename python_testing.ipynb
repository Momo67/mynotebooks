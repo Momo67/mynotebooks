{
 "cells": [
  {
   "cell_type": "markdown",
   "metadata": {},
   "source": [
    "## Mise en situation"
   ]
  },
  {
   "cell_type": "markdown",
   "metadata": {},
   "source": [
    "### Qu’est-ce qui est affiché par la dernière ligne ?"
   ]
  },
  {
   "cell_type": "code",
   "execution_count": 1,
   "metadata": {
    "collapsed": false
   },
   "outputs": [
    {
     "name": "stdout",
     "output_type": "stream",
     "text": [
      "123\n"
     ]
    }
   ],
   "source": [
    "class Account:\n",
    "    def __init__(self, id):\n",
    "        self.id = id\n",
    "        id = 666 \n",
    " \n",
    "acc = Account(123)\n",
    "print(acc.id)"
   ]
  },
  {
   "cell_type": "markdown",
   "metadata": {},
   "source": [
    "### Qu’est-ce qui est affiché par la dernière ligne ?"
   ]
  },
  {
   "cell_type": "code",
   "execution_count": 2,
   "metadata": {
    "collapsed": false
   },
   "outputs": [
    {
     "name": "stdout",
     "output_type": "stream",
     "text": [
      "6\n"
     ]
    }
   ],
   "source": [
    "confusion = {}\n",
    "confusion[1] = 1\n",
    "confusion['1'] = 2\n",
    "confusion[1.0] = 4\n",
    " \n",
    "sum = 0\n",
    "for k in confusion:\n",
    "    sum += confusion[k]\n",
    " \n",
    "print(sum)"
   ]
  },
  {
   "cell_type": "markdown",
   "metadata": {},
   "source": [
    "### Qu’est-ce qui est affiché par la dernière ligne ?"
   ]
  },
  {
   "cell_type": "code",
   "execution_count": 3,
   "metadata": {
    "collapsed": false
   },
   "outputs": [
    {
     "name": "stdout",
     "output_type": "stream",
     "text": [
      "yes\n"
     ]
    }
   ],
   "source": [
    "x = True\n",
    "y = False\n",
    "z = False\n",
    " \n",
    "if x or y and z:\n",
    "    print \"yes\"\n",
    "else:\n",
    "    print \"no\""
   ]
  },
  {
   "cell_type": "markdown",
   "metadata": {},
   "source": [
    "### Classer la liste par ordre décroissant de quantité :"
   ]
  },
  {
   "cell_type": "code",
   "execution_count": 9,
   "metadata": {
    "collapsed": true
   },
   "outputs": [],
   "source": [
    "inventaire = [(\"pommes\", 22),(\"melons\", 4),(\"poires\", 18),(\"fraises\", 76),(\"prunes\", 51)]\n",
    "#Classer cette liste selon la quantité de chaque fruit par ordre décroissant"
   ]
  },
  {
   "cell_type": "code",
   "execution_count": 10,
   "metadata": {
    "collapsed": false
   },
   "outputs": [
    {
     "name": "stdout",
     "output_type": "stream",
     "text": [
      "[('fraises', 76), ('prunes', 51), ('pommes', 22), ('poires', 18), ('melons', 4)]\n"
     ]
    }
   ],
   "source": [
    "inventaire_inverse = [(qtt, nom_fruit) for nom_fruit, qtt in inventaire]\n",
    "inventaire_inverse.sort(reverse=True)\n",
    "inventaire = [(nom_fruit, qtt) for qtt , nom_fruit in inventaire_inverse]\n",
    "print(inventaire)"
   ]
  },
  {
   "cell_type": "code",
   "execution_count": 42,
   "metadata": {
    "collapsed": false
   },
   "outputs": [
    {
     "name": "stdout",
     "output_type": "stream",
     "text": [
      "<type 'list'>\n",
      "500159\n",
      "10000 loops, best of 3: 106 µs per loop\n"
     ]
    }
   ],
   "source": [
    "import numpy as np\n",
    "import numpy.random as nprnd\n",
    "liste = nprnd.randint(1000, size=1000)\n",
    "print type(list(liste))\n",
    "print sum(list(liste))\n",
    "%timeit sum(list(liste))"
   ]
  },
  {
   "cell_type": "code",
   "execution_count": 43,
   "metadata": {
    "collapsed": false
   },
   "outputs": [
    {
     "name": "stdout",
     "output_type": "stream",
     "text": [
      "500159\n",
      "1000 loops, best of 3: 202 µs per loop\n"
     ]
    }
   ],
   "source": [
    "print(reduce(lambda x,y: x+y, liste))\n",
    "%timeit reduce(lambda x,y: x+y, liste)"
   ]
  },
  {
   "cell_type": "code",
   "execution_count": 44,
   "metadata": {
    "collapsed": false
   },
   "outputs": [
    {
     "name": "stdout",
     "output_type": "stream",
     "text": [
      "500159\n",
      "100000 loops, best of 3: 5.25 µs per loop\n"
     ]
    }
   ],
   "source": [
    "print np.sum(liste)\n",
    "%timeit np.sum(liste)"
   ]
  },
  {
   "cell_type": "markdown",
   "metadata": {},
   "source": [
    "### Calculer la somme d’une liste des nombres impairs :"
   ]
  },
  {
   "cell_type": "code",
   "execution_count": 45,
   "metadata": {
    "collapsed": false
   },
   "outputs": [],
   "source": [
    "liste = [2,1,1,2,4,1,3]\n"
   ]
  },
  {
   "cell_type": "code",
   "execution_count": 46,
   "metadata": {
    "collapsed": false
   },
   "outputs": [
    {
     "data": {
      "text/plain": [
       "6"
      ]
     },
     "execution_count": 46,
     "metadata": {},
     "output_type": "execute_result"
    }
   ],
   "source": [
    "sum([i for i in liste if i % 2 ==1])"
   ]
  },
  {
   "cell_type": "markdown",
   "metadata": {},
   "source": [
    "### Transformez cette liste pour qu'il ne reste que des éléments unique  :"
   ]
  },
  {
   "cell_type": "code",
   "execution_count": 51,
   "metadata": {
    "collapsed": false
   },
   "outputs": [
    {
     "data": {
      "text/plain": [
       "[1, 2, 3, 4]"
      ]
     },
     "execution_count": 51,
     "metadata": {},
     "output_type": "execute_result"
    }
   ],
   "source": [
    "liste = [2,1,1,2,4,1,3]\n",
    "list(set(liste))"
   ]
  },
  {
   "cell_type": "markdown",
   "metadata": {},
   "source": [
    "### Meilleur pratique pour ouvrir un fichier:"
   ]
  },
  {
   "cell_type": "code",
   "execution_count": 10,
   "metadata": {
    "collapsed": false
   },
   "outputs": [
    {
     "name": "stdout",
     "output_type": "stream",
     "text": [
      "Writing test.txt\n"
     ]
    }
   ],
   "source": [
    "%%writefile test.txt\n",
    "Ceci est la lgine numéro 1\n",
    "et la ligne numéro deux\n",
    "d'un fichier texte"
   ]
  },
  {
   "cell_type": "code",
   "execution_count": 22,
   "metadata": {
    "collapsed": false
   },
   "outputs": [
    {
     "name": "stdout",
     "output_type": "stream",
     "text": [
      "FILE : test.txt contains 000003 lines \n"
     ]
    }
   ],
   "source": [
    "# 1) Comment ouvrir un fichier en lecture en traitant les exceptions possibles ?\n",
    "my_file = 'test.txt'\n",
    "try:\n",
    "    f = open(my_file)\n",
    "\n",
    "    try:\n",
    "        all = f.readlines()        \n",
    "        print(\"FILE : {file} contains {numlines:06d} lines \".format(file=my_file,numlines=len(all)))\n",
    "    except EXPECTED_EXCEPTION_TYPES as e:\n",
    "        print(\"ERROR READING FILE : {file}\".format(file=my_file))\n",
    "        print(e)\n",
    "    finally:\n",
    "        f.close()\n",
    "\n",
    "except (IOError, OSError) as e:\n",
    "    print(\"ERROR OPENING FILE : {file}\".format(file=my_file))\n",
    "    print(e)\n",
    "# https://pyformat.info/"
   ]
  },
  {
   "cell_type": "code",
   "execution_count": 23,
   "metadata": {
    "collapsed": false
   },
   "outputs": [
    {
     "name": "stdout",
     "output_type": "stream",
     "text": [
      "['Ceci est la lgine num\\xc3\\xa9ro 1\\n', 'et la ligne num\\xc3\\xa9ro deux\\n', \"d'un fichier texte\"]\n",
      "FILE : test.txt contains 000003 lines \n"
     ]
    }
   ],
   "source": [
    "with open(my_file) as f:\n",
    "    print f.readlines()\n",
    "    print(\"FILE : {file} contains {numlines:06d} lines \".format(file=my_file,numlines=len(all)))\n",
    "    "
   ]
  },
  {
   "cell_type": "markdown",
   "metadata": {},
   "source": [
    "### Connaissances web framework python  :"
   ]
  },
  {
   "cell_type": "markdown",
   "metadata": {
    "collapsed": true
   },
   "source": [
    "[Python Web frameworks](http://www.fullstackpython.com/web-frameworks.html)\n",
    "![web frameworks logos](https://i.imgur.com/d3jNLfN.jpg)\n",
    " \n",
    "#### Citer 5 web frameworks python, lesquels connaissez-vous ?\n",
    " \n",
    " 1. [Django](https://www.djangoproject.com/)\n",
    " 2. [Flask](http://flask.pocoo.org/)\n",
    " 3. [Pyramid](http://www.pylonsproject.org/)\n",
    " 4. [Web2Py](http://www.web2py.com/)\n",
    " 5. [Turbogears2](http://www.turbogears.org/)\n",
    " 6. [Falcon](http://falconframework.org/)\n",
    " 7. [Bottle](http://bottlepy.org/docs/dev/index.html)\n",
    " 8. [CherryPy](http://www.cherrypy.org/)\n",
    " 9. [Muffin](https://github.com/klen/muffin)\n",
    " 10. [Tornado](http://www.tornadoweb.org/en/stable/)\n",
    " \n",
    "#### Quels sont les fonctions essentielles d’un web framework ?\n",
    " \n",
    " certaines fonctions de base incluent :\n",
    " \n",
    "- URL routing\n",
    "- HTML, XML, JSON, and other output format templating\n",
    "- Database manipulation\n",
    "- Security against Cross-site request forgery (CSRF) and other attacks\n",
    "- Session storage and retrieval\n",
    " \n",
    "#### Quels sont les avantages / inconvénients de ces frameworks ?\n",
    " [Django vs Flask vs Pyramid: Choosing a Python Web Framework](https://www.airpair.com/python/posts/django-flask-pyramid)\n",
    "[Pirates use Flask, the Navy uses Django](https://wakatime.com/blog/25-pirates-use-flask-the-navy-uses-django)\n",
    "\n",
    "[Performance of some python web frameworks](http://klen.github.io/py-frameworks-bench/)\n",
    "\n",
    "![performance of web frameworks](https://wakatime.com/static/img/blog/django-vs-flask-performance-insignificant.png)\n"
   ]
  },
  {
   "cell_type": "code",
   "execution_count": null,
   "metadata": {
    "collapsed": true
   },
   "outputs": [],
   "source": []
  }
 ],
 "metadata": {
  "kernelspec": {
   "display_name": "Python 2",
   "language": "python",
   "name": "python2"
  },
  "language_info": {
   "codemirror_mode": {
    "name": "ipython",
    "version": 2
   },
   "file_extension": ".py",
   "mimetype": "text/x-python",
   "name": "python",
   "nbconvert_exporter": "python",
   "pygments_lexer": "ipython2",
   "version": "2.7.10"
  }
 },
 "nbformat": 4,
 "nbformat_minor": 0
}
